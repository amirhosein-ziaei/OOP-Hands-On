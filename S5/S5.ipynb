{
 "cells": [
  {
   "attachments": {},
   "cell_type": "markdown",
   "metadata": {},
   "source": [
    "---\n",
    "# Session Five\n",
    "---"
   ]
  },
  {
   "cell_type": "code",
   "execution_count": null,
   "metadata": {},
   "outputs": [],
   "source": [
    "# super()\n",
    "import datetime\n",
    "class Employee:\n",
    "    pay_rising = 0.1\n",
    "    def __init__(self, first, last, pay):\n",
    "        self.first = first\n",
    "        self.last = last\n",
    "        self.pay = pay\n",
    "        self.mail = first + \".\"+last + \"#company.com\"\n",
    "\n",
    "    def fullname(self):\n",
    "        return '{} {}'.format(self.first, self.last)\n",
    "    def pay_increase(self):\n",
    "        self.pay += int(self.pay * self.pay_rising)\n",
    "class Developer(Employee):\n",
    "    def __init__(self, first, last, pay, prog_lang):\n",
    "        Employee.__init__(self, first, last, pay)\n",
    "        self.prog_lang = prog_lang\n",
    "class Manager(Employee):\n",
    "    def __init__(self, first, last, pay, employees = None ):\n",
    "        #Employee.__init__(self, first, last, pay)\n",
    "        super().__init__(first, last, pay)\n",
    "        # the above code is exactly this one --> Employee.__init__(self, first, last, pay)\n",
    "        if employees is None:\n",
    "            self.employees = []\n",
    "        else:\n",
    "            self.employees = employees\n",
    "    def add_emps(self, emp):\n",
    "        if emp not in self.employees:\n",
    "            self.employees.append(emp)\n",
    "    def remove_emp(self, emp):\n",
    "        if emp in self.employees:\n",
    "            self.employees.remove(emp)\n",
    "    def print_emps(self):\n",
    "        for emp in self.employees:\n",
    "            print(\"--\",emp.fullname())\n",
    "\n",
    "dev1 = Developer(\"Amirhosein\", \"Ziaei\", 2000, \"python\")\n",
    "dev2 = Developer(\"Ali\", \"Karimi\", 2500, \"java\")\n",
    "\n",
    "mgr1 = Manager(\"Reza\", \"Irani\", 9000, [dev1])\n",
    "print(mgr1.mail)\n",
    "mgr1.add_emps(dev2)\n",
    "mgr1.print_emps()\n",
    "print(\"-------------\")\n",
    "mgr1.remove_emp(dev1)\n",
    "mgr1.print_emps()\n",
    "print(\"---------\")\n",
    "print(isinstance(mgr1,Manager))\n",
    "print(isinstance(mgr1,Employee))\n",
    "\n",
    "print(\"--------------\")\n",
    "\n",
    "print(issubclass(Manager, Developer))\n",
    "print(issubclass(Developer,Employee))\n",
    "print(\"--------------\")\n",
    "print(help(Developer))"
   ]
  }
 ],
 "metadata": {
  "kernelspec": {
   "display_name": "Python 3",
   "language": "python",
   "name": "python3"
  },
  "language_info": {
   "name": "python",
   "version": "3.10.9"
  },
  "orig_nbformat": 4,
  "vscode": {
   "interpreter": {
    "hash": "8ae2f46ef3e5144e5776b9c108c3f4d7c46b78bf7fcbac66ce0b30902330da68"
   }
  }
 },
 "nbformat": 4,
 "nbformat_minor": 2
}
