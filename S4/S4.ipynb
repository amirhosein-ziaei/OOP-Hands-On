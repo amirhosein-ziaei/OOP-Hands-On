{
 "cells": [
  {
   "attachments": {},
   "cell_type": "markdown",
   "metadata": {},
   "source": [
    "---\n",
    "# Session Four\n",
    "---"
   ]
  },
  {
   "cell_type": "code",
   "execution_count": null,
   "metadata": {},
   "outputs": [],
   "source": [
    "# Single Inheritance\n",
    "print('-------------Single Inheritance-------------')\n",
    "class Father:\n",
    "    def F_feature(self):\n",
    "        print(\"This feature belongs to father.\")\n",
    "class Child(Father):\n",
    "    def C_feature(self):\n",
    "        print(\"this feature belongs to child.\")\n",
    "\n",
    "object = Child() \n",
    "\n",
    "object.C_feature()\n",
    "object.F_feature() "
   ]
  },
  {
   "cell_type": "code",
   "execution_count": null,
   "metadata": {},
   "outputs": [],
   "source": [
    "class Person:   \n",
    "    def __init__(self, name, id) :\n",
    "        self.name = name\n",
    "        self.idnumber = id\n",
    "\n",
    "    def display_(self):\n",
    "        print(self.name)\n",
    "        print(self.idnumber)\n",
    "\n",
    "class Employee(Person):\n",
    "    def __init__(self, name, id, salary, post):\n",
    "        self.salary = salary\n",
    "        self.post = post\n",
    "        Person.__init__(self, name, id)\n",
    "    def person_details(self):\n",
    "        print(self.name, self.idnumber, self.salary, self.post)\n",
    "\n",
    "e = Employee(\"Amirhosein\", 30, 3000, \"Manager\")\n",
    "\n",
    "e.display_() \n",
    "e.person_details()"
   ]
  },
  {
   "cell_type": "code",
   "execution_count": null,
   "metadata": {},
   "outputs": [],
   "source": [
    "# Multiple Inheritance\n",
    "# A --> C\n",
    "# B --> C\n",
    "\n",
    "print('-------------Multiple Inheritance-------------')\n",
    "class Mother:\n",
    "    mother_attr = \"\"\n",
    "    def mother(self):\n",
    "        print(self.mother_attr)\n",
    "\n",
    "class Father:\n",
    "    father_attr = \"\"\n",
    "    def father(self):\n",
    "        print(self.father_attr)        \n",
    "\n",
    "class son(Mother, Father): \n",
    "    def Inherited_attrs(self):\n",
    "        print(\"father\", self.father_attr)\n",
    "        print(\"mother\", self.mother_attr)\n",
    "\n",
    "s1 = son()\n",
    "\n",
    "s1.father_attr = \"Good Moral\"\n",
    "s1.mother_attr = \"Kind\"\n",
    "s1.Inherited_attrs()"
   ]
  },
  {
   "cell_type": "code",
   "execution_count": null,
   "metadata": {},
   "outputs": [],
   "source": [
    "# Multilevel Inheritance\n",
    "# A --> B --> C \n",
    "\n",
    "print('-------------Multilevel Inheritance-------------')\n",
    "class Grandfather:\n",
    "    Grandfather_attr = \"\"\n",
    "    def grandfather(self):\n",
    "        print(self.Grandfather_attr)\n",
    "class Father(Grandfather):\n",
    "    father_attr = \"\"\n",
    "    def father(self):\n",
    "        print(self.father_attr)\n",
    "class Son(Father):\n",
    "    def parent(self):\n",
    "        print(\"GrandFather :\", self.Grandfather_attr)\n",
    "        print(\"Father :\", self.father_attr)\n",
    "\n",
    "s1 = Son()\n",
    "s1.Grandfather_attr = \"Good Moral\"\n",
    "s1.father_attr = \"Kind\"\n",
    "\n",
    "s1.parent()"
   ]
  },
  {
   "cell_type": "code",
   "execution_count": null,
   "metadata": {},
   "outputs": [],
   "source": [
    "class Sup:\n",
    "    def __init__(self, name):\n",
    "        self.name = name\n",
    "    def get_name(self):\n",
    "        return self.name\n",
    "\n",
    "class Child(Sup):\n",
    "    def __init__(self, name, age):\n",
    "        Sup.__init__(self, name)\n",
    "        self.age = age\n",
    "    def get_age(self):\n",
    "        return self.age\n",
    "\n",
    "class GrandChild(Child):\n",
    "    def __init__(self, name, age, address):\n",
    "        Child.__init__(self, name, age)\n",
    "        self.address = address\n",
    "    def get_address(self):\n",
    "        return self.address\n",
    "\n",
    "g = GrandChild(\"Amirhosein\", 27, \"Tehran\")\n",
    "print(g.get_name(), g.get_age(), g.get_address())"
   ]
  },
  {
   "cell_type": "code",
   "execution_count": null,
   "metadata": {},
   "outputs": [],
   "source": [
    "# Hierarchical Inheritance\n",
    "# A --> B\n",
    "# A --> C\n",
    "# A --> D\n",
    "print('-------------Hierarchical Inheritance-------------')\n",
    "class Father:\n",
    "    def First_attr(self):\n",
    "        print(\"I have a Good Moral\")\n",
    "    def Second_attr(self):\n",
    "        print(\"I am a gentle, kindly man\")\n",
    "class Child1(Father):\n",
    "    def GoodMoral(self):\n",
    "        Father.First_attr(self)\n",
    "\n",
    "class Child2(Father):\n",
    "    def KindlyMan(self):\n",
    "        Father.Second_attr(self)\n",
    "\n",
    "object1 = Child1()\n",
    "object2 = Child2()\n",
    "\n",
    "object1.GoodMoral()\n",
    "print(\"------------\")\n",
    "object2.KindlyMan()\n",
    "        "
   ]
  },
  {
   "cell_type": "code",
   "execution_count": null,
   "metadata": {},
   "outputs": [],
   "source": [
    "import datetime\n",
    "class Employee:\n",
    "    pay_rising = 0.1\n",
    "    def __init__(self, first, last, pay):\n",
    "        self.first = first\n",
    "        self.last = last\n",
    "        self.pay = pay\n",
    "        self.mail = first + \".\"+last + \"#company.com\"\n",
    "\n",
    "    def fullname(self):\n",
    "        return '{} {}'.format(self.first, self.last)\n",
    "    def pay_increase(self):\n",
    "        self.pay += int(self.pay * self.pay_rising)\n",
    "class Developer(Employee):\n",
    "    pay_rising = 0.2\n",
    "\n",
    "dev1 = Developer(\"Amirhosein\", \"Ziaei\", 2000)\n",
    "dev2 = Developer(\"Ali\", \"Karimi\", 2500)\n",
    "\n",
    "print(\"dev1 pay :\", dev1.pay)\n",
    "dev1.pay_increase()\n",
    "print(\"dev2 pay :\", dev1.pay)"
   ]
  }
 ],
 "metadata": {
  "kernelspec": {
   "display_name": "Python 3",
   "language": "python",
   "name": "python3"
  },
  "language_info": {
   "name": "python",
   "version": "3.10.9"
  },
  "orig_nbformat": 4,
  "vscode": {
   "interpreter": {
    "hash": "8ae2f46ef3e5144e5776b9c108c3f4d7c46b78bf7fcbac66ce0b30902330da68"
   }
  }
 },
 "nbformat": 4,
 "nbformat_minor": 2
}
