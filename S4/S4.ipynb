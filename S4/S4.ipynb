{
 "cells": [
  {
   "attachments": {},
   "cell_type": "markdown",
   "metadata": {},
   "source": [
    "---\n",
    "# Session Four\n",
    "---"
   ]
  },
  {
   "cell_type": "code",
   "execution_count": null,
   "metadata": {},
   "outputs": [],
   "source": [
    "# Single Inheritance\n",
    "print('-------------Single Inheritance-------------')\n",
    "class Father:\n",
    "    def F_feature(self):\n",
    "        print(\"This feature belongs to father.\")\n",
    "class Child(Father):\n",
    "    def C_feature(self):\n",
    "        print(\"this feature belongs to child.\")\n",
    "\n",
    "object = Child() \n",
    "\n",
    "object.C_feature()\n",
    "object.F_feature() "
   ]
  }
 ],
 "metadata": {
  "kernelspec": {
   "display_name": "Python 3",
   "language": "python",
   "name": "python3"
  },
  "language_info": {
   "name": "python",
   "version": "3.10.9"
  },
  "orig_nbformat": 4,
  "vscode": {
   "interpreter": {
    "hash": "8ae2f46ef3e5144e5776b9c108c3f4d7c46b78bf7fcbac66ce0b30902330da68"
   }
  }
 },
 "nbformat": 4,
 "nbformat_minor": 2
}
