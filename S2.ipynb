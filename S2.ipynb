{
 "cells": [
  {
   "attachments": {},
   "cell_type": "markdown",
   "metadata": {},
   "source": [
    "---\n",
    "# Session Two\n",
    "---"
   ]
  },
  {
   "cell_type": "code",
   "execution_count": null,
   "metadata": {},
   "outputs": [],
   "source": [
    "# Raising salary ten percent\n",
    "class Employee:\n",
    "    def __init__(self, first, last, pay): # متغیر های این کلاس در سطح نمونه هستند \n",
    "        self.first = first\n",
    "        self.last = last\n",
    "        self.pay = pay\n",
    "        self.mail = first + \".\" + last + \"@company.com\"\n",
    "    def fullname(self):\n",
    "        return \"{} {}\".format(self.first,self.last)\n",
    "    def pay_increase(self):\n",
    "        self.pay += int(self.pay*0.1)\n",
    "\n",
    "\n",
    "emp1 = Employee(\"Amirhosein\", \"Ziaei\", 2000) \n",
    "emp2 = Employee(\"Ali\", \"Karimi\", 2500)"
   ]
  },
  {
   "cell_type": "code",
   "execution_count": null,
   "metadata": {},
   "outputs": [],
   "source": [
    "# Raising salary ten percent\n",
    "class Employee:\n",
    "    pay_rising = 0.1    \n",
    "    def __init__(self, first, last, pay): \n",
    "        self.first = first\n",
    "        self.last = last\n",
    "        self.pay = pay\n",
    "        self.mail = first + \".\" + last + \"@company.com\"\n",
    "    def fullname(self):\n",
    "        return \"{} {}\".format(self.first,self.last)\n",
    "    def pay_increase(self):\n",
    "        self.pay += int(self.pay * self.pay_rising)\n",
    "        # another way is \n",
    "        #self.pay += int(self.pay * Employee.pay_rising)\n",
    "        # when we use Employee we have access to all functions and variables defined in the class\n",
    "        \n",
    "emp1 = Employee(\"Amirhosein\", \"Ziaei\", 2000) \n",
    "emp2 = Employee(\"Ali\", \"Karimi\", 2500)"
   ]
  },
  {
   "attachments": {},
   "cell_type": "markdown",
   "metadata": {},
   "source": [
    "**what is difference between *'self.pay_rising'* and *'Employee.pay_rising'* ?**"
   ]
  },
  {
   "cell_type": "code",
   "execution_count": null,
   "metadata": {},
   "outputs": [],
   "source": [
    "class Employee:\n",
    "    pay_rising = 0.1    \n",
    "    def __init__(self, first, last, pay): \n",
    "        self.first = first\n",
    "        self.last = last\n",
    "        self.pay = pay\n",
    "        self.mail = first + \".\" + last + \"@company.com\"\n",
    "    def fullname(self):\n",
    "        return \"{} {}\".format(self.first,self.last)\n",
    "    def pay_increase(self):\n",
    "        self.pay += int(self.pay * self.pay_rising)\n",
    "        #self.pay += int(self.pay * Employee.pay_rising)\n",
    "        \n",
    "        \n",
    "emp1 = Employee(\"Amirhosein\", \"Ziaei\", 2000) \n",
    "emp2 = Employee(\"Ali\", \"Karimi\", 2500)\n",
    "\n",
    "print(Employee.pay_rising)\n",
    "print(emp1.pay_rising)\n",
    "print(emp2.pay_rising)\n",
    "\n",
    "print()\n",
    "emp1.pay_increase()\n",
    "emp2.pay_increase()\n",
    "print(emp1.pay)\n",
    "print(emp2.pay)\n"
   ]
  },
  {
   "cell_type": "code",
   "execution_count": null,
   "metadata": {},
   "outputs": [],
   "source": [
    "class Employee:\n",
    "    pay_rising = 0.1    \n",
    "    def __init__(self, first, last, pay): \n",
    "        self.first = first\n",
    "        self.last = last\n",
    "        self.pay = pay\n",
    "        self.mail = first + \".\" + last + \"@company.com\"\n",
    "    def fullname(self):\n",
    "        return \"{} {}\".format(self.first,self.last)\n",
    "    def pay_increase(self):\n",
    "        self.pay += int(self.pay * self.pay_rising)\n",
    "        \n",
    "        \n",
    "emp1 = Employee(\"Amirhosein\", \"Ziaei\", 2000) \n",
    "emp2 = Employee(\"Ali\", \"Karimi\", 2500)\n",
    "\n",
    "emp1.pay_rising = 0.15  \n",
    "print()\n",
    "print(Employee.pay_rising)\n",
    "print(emp1.pay_rising)\n",
    "print(emp2.pay_rising)\n",
    "\n",
    "print()\n",
    "emp1.pay_increase()\n",
    "emp2.pay_increase()\n",
    "print(emp1.pay)\n",
    "print(emp2.pay)\n",
    "\n",
    "print()\n",
    "print(Employee.__dict__)\n",
    "print()\n",
    "print(emp1.__dict__)\n",
    "print()\n",
    "print(emp2.__dict__)"
   ]
  }
 ],
 "metadata": {
  "kernelspec": {
   "display_name": "Python 3",
   "language": "python",
   "name": "python3"
  },
  "language_info": {
   "codemirror_mode": {
    "name": "ipython",
    "version": 3
   },
   "file_extension": ".py",
   "mimetype": "text/x-python",
   "name": "python",
   "nbconvert_exporter": "python",
   "pygments_lexer": "ipython3",
   "version": "3.10.9"
  },
  "orig_nbformat": 4,
  "vscode": {
   "interpreter": {
    "hash": "8ae2f46ef3e5144e5776b9c108c3f4d7c46b78bf7fcbac66ce0b30902330da68"
   }
  }
 },
 "nbformat": 4,
 "nbformat_minor": 2
}
