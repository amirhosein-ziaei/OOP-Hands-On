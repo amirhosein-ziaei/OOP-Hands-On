{
 "cells": [
  {
   "attachments": {},
   "cell_type": "markdown",
   "metadata": {},
   "source": [
    "---\n",
    "# Session Two\n",
    "---"
   ]
  },
  {
   "cell_type": "code",
   "execution_count": null,
   "metadata": {},
   "outputs": [],
   "source": [
    "# Raising salary ten percent\n",
    "class Employee:\n",
    "    def __init__(self, first, last, pay): # متغیر های این کلاس در سطح نمونه هستند \n",
    "        self.first = first\n",
    "        self.last = last\n",
    "        self.pay = pay\n",
    "        self.mail = first + \".\" + last + \"@company.com\"\n",
    "    def fullname(self):\n",
    "        return \"{} {}\".format(self.first,self.last)\n",
    "    def pay_increase(self):\n",
    "        self.pay += int(self.pay*0.1)\n",
    "\n",
    "\n",
    "emp1 = Employee(\"Amirhosein\", \"Ziaei\", 2000) \n",
    "emp2 = Employee(\"Ali\", \"Karimi\", 2500)"
   ]
  }
 ],
 "metadata": {
  "kernelspec": {
   "display_name": "Python 3",
   "language": "python",
   "name": "python3"
  },
  "language_info": {
   "name": "python",
   "version": "3.10.9"
  },
  "orig_nbformat": 4,
  "vscode": {
   "interpreter": {
    "hash": "8ae2f46ef3e5144e5776b9c108c3f4d7c46b78bf7fcbac66ce0b30902330da68"
   }
  }
 },
 "nbformat": 4,
 "nbformat_minor": 2
}
