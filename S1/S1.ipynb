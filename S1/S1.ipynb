{
 "cells": [
  {
   "attachments": {},
   "cell_type": "markdown",
   "metadata": {},
   "source": [
    "---\n",
    "# Session One\n",
    "---"
   ]
  },
  {
   "attachments": {},
   "cell_type": "markdown",
   "metadata": {},
   "source": [
    "<p align=\"center\">\n",
    "    <img src=\"images/S1_1.png\" width=\"680\"\\>\n",
    "</p>"
   ]
  },
  {
   "cell_type": "code",
   "execution_count": null,
   "metadata": {},
   "outputs": [],
   "source": [
    "# Welcome to OOP in python\n",
    "#clear all\n",
    "# class is template \n",
    "class Employee:\n",
    "    pass    # it means do nothing // it is empty class.\n",
    "\n",
    "\n",
    "emp1 = Employee()   # one employee added to company // emp1 is object // Employee() is class\n",
    "emp2 = Employee()\n",
    "\n",
    "emp1.first = \"Amirhosein\"\n",
    "emp1.last = \"Ziaei\"\n",
    "emp1.pay = 2000\n",
    "emp1.mail = \"Amirhosein.Ziaei@company.com\"\n",
    "\n",
    "emp2.first = \"Ali\"\n",
    "emp2.last = \"Karimi\"\n",
    "emp2.pay = 2500\n",
    "emp2.mail = \"Ali.Mohammadi@company.com\"\n",
    "\n",
    "print(\"emp1 Mail\", emp1.mail)\n",
    "print(\"emp2 Mail\", emp2.mail)"
   ]
  }
 ],
 "metadata": {
  "kernelspec": {
   "display_name": "Python 3",
   "language": "python",
   "name": "python3"
  },
  "language_info": {
   "codemirror_mode": {
    "name": "ipython",
    "version": 3
   },
   "file_extension": ".py",
   "mimetype": "text/x-python",
   "name": "python",
   "nbconvert_exporter": "python",
   "pygments_lexer": "ipython3",
   "version": "3.10.9"
  },
  "orig_nbformat": 4,
  "vscode": {
   "interpreter": {
    "hash": "8ae2f46ef3e5144e5776b9c108c3f4d7c46b78bf7fcbac66ce0b30902330da68"
   }
  }
 },
 "nbformat": 4,
 "nbformat_minor": 2
}
