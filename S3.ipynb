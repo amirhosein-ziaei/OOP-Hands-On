{
 "cells": [
  {
   "attachments": {},
   "cell_type": "markdown",
   "metadata": {},
   "source": [
    "---\n",
    "# Session Three\n",
    "---"
   ]
  },
  {
   "attachments": {},
   "cell_type": "markdown",
   "metadata": {},
   "source": [
    "**Instance methods, Static methods and Class methods**"
   ]
  },
  {
   "cell_type": "code",
   "execution_count": null,
   "metadata": {},
   "outputs": [],
   "source": [
    "from datetime import date\n",
    "class person:\n",
    "    def __init__(self, first, age) :\n",
    "        self.name = first\n",
    "        self.age = age\n",
    "    \n",
    "    @classmethod\n",
    "    def my_classmethod(cls, name, birthdate) :\n",
    "        return cls(name, date.today().year - birthdate)\n",
    "    @staticmethod\n",
    "    def is_adult(my_age) :\n",
    "        return my_age > 18    \n",
    "\n",
    "person1 = person(\"Amirhosein\", 27)\n",
    "print(person1.name, person1.age)\n",
    "\n",
    "person2 = person.my_classmethod(\"Amirhosein\", 1993)\n",
    "print(person2.name, person2.age)\n",
    "\n",
    "print(person1.is_adult(27))"
   ]
  }
 ],
 "metadata": {
  "kernelspec": {
   "display_name": "Python 3",
   "language": "python",
   "name": "python3"
  },
  "language_info": {
   "name": "python",
   "version": "3.10.9"
  },
  "orig_nbformat": 4,
  "vscode": {
   "interpreter": {
    "hash": "8ae2f46ef3e5144e5776b9c108c3f4d7c46b78bf7fcbac66ce0b30902330da68"
   }
  }
 },
 "nbformat": 4,
 "nbformat_minor": 2
}
